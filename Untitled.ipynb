{
 "cells": [
  {
   "cell_type": "code",
   "execution_count": 1,
   "metadata": {},
   "outputs": [
    {
     "name": "stderr",
     "output_type": "stream",
     "text": [
      "2018-09-08 15:23:13,515 - application - INFO - Starting Application\n",
      "2018-09-08 15:23:13,515 - application - INFO - Loading Reverse Index: /home/allan.batista/PycharmProjects/search_engine/Data/Metadata/model.cos.reverse_index.csv\n",
      "2018-09-08 15:23:14,675 - application - INFO - Model Loaded\n"
     ]
    }
   ],
   "source": [
    "#!/usr/bin/env python\n",
    "# -*- coding: utf-8 -*-\n",
    "\n",
    "from Tools.Config import CONFIG, ROOT_DIR\n",
    "from Tools.Logger import logger\n",
    "from Tools.ModelCos import Model\n",
    "from Tools.EvaluatorData import EvaluatorData\n",
    "from Tools.Preprocessor import Preprocessor\n",
    "from Tools.VectorizeTFIDF import vectorize\n",
    "import pandas as pd\n",
    "import matplotlib.pyplot as plt\n",
    "\n",
    "logger.info('Starting Application')\n",
    "\n",
    "model = Model()\n",
    "model.load(ROOT_DIR + \"/\" + CONFIG['models_path'])\n",
    "\n",
    "evaluator_data = EvaluatorData(ROOT_DIR + \"/Data/cfquery.xml\")\n",
    "\n",
    "preprocessor = Preprocessor()"
   ]
  },
  {
   "cell_type": "code",
   "execution_count": 2,
   "metadata": {},
   "outputs": [
    {
     "name": "stderr",
     "output_type": "stream",
     "text": [
      "2018-09-08 15:23:14,838 - application - INFO - vectorize document 0/1\n"
     ]
    },
    {
     "name": "stdout",
     "output_type": "stream",
     "text": [
      "Predicting 00034\n"
     ]
    },
    {
     "name": "stderr",
     "output_type": "stream",
     "text": [
      "2018-09-08 15:23:15,536 - application - INFO - vectorize document 0/1\n"
     ]
    },
    {
     "name": "stdout",
     "output_type": "stream",
     "text": [
      "Predicting 00007\n"
     ]
    },
    {
     "name": "stderr",
     "output_type": "stream",
     "text": [
      "2018-09-08 15:23:16,228 - application - INFO - vectorize document 0/1\n"
     ]
    },
    {
     "name": "stdout",
     "output_type": "stream",
     "text": [
      "Predicting 00043\n"
     ]
    },
    {
     "name": "stderr",
     "output_type": "stream",
     "text": [
      "2018-09-08 15:23:16,912 - application - INFO - vectorize document 0/1\n"
     ]
    },
    {
     "name": "stdout",
     "output_type": "stream",
     "text": [
      "Predicting 00009\n"
     ]
    },
    {
     "name": "stderr",
     "output_type": "stream",
     "text": [
      "2018-09-08 15:23:17,584 - application - INFO - vectorize document 0/1\n"
     ]
    },
    {
     "name": "stdout",
     "output_type": "stream",
     "text": [
      "Predicting 00131\n"
     ]
    },
    {
     "name": "stderr",
     "output_type": "stream",
     "text": [
      "2018-09-08 15:23:18,273 - application - INFO - vectorize document 0/1\n"
     ]
    },
    {
     "name": "stdout",
     "output_type": "stream",
     "text": [
      "Predicting 00024\n"
     ]
    },
    {
     "name": "stderr",
     "output_type": "stream",
     "text": [
      "2018-09-08 15:23:18,961 - application - INFO - vectorize document 0/1\n"
     ]
    },
    {
     "name": "stdout",
     "output_type": "stream",
     "text": [
      "Predicting 00028\n"
     ]
    },
    {
     "name": "stderr",
     "output_type": "stream",
     "text": [
      "2018-09-08 15:23:19,631 - application - INFO - vectorize document 0/1\n"
     ]
    },
    {
     "name": "stdout",
     "output_type": "stream",
     "text": [
      "Predicting 00022\n"
     ]
    },
    {
     "name": "stderr",
     "output_type": "stream",
     "text": [
      "2018-09-08 15:23:20,308 - application - INFO - vectorize document 0/1\n"
     ]
    },
    {
     "name": "stdout",
     "output_type": "stream",
     "text": [
      "Predicting 00010\n"
     ]
    },
    {
     "name": "stderr",
     "output_type": "stream",
     "text": [
      "2018-09-08 15:23:20,991 - application - INFO - vectorize document 0/1\n"
     ]
    },
    {
     "name": "stdout",
     "output_type": "stream",
     "text": [
      "Predicting 00025\n"
     ]
    },
    {
     "name": "stderr",
     "output_type": "stream",
     "text": [
      "2018-09-08 15:23:21,674 - application - INFO - vectorize document 0/1\n"
     ]
    },
    {
     "name": "stdout",
     "output_type": "stream",
     "text": [
      "Predicting 00022\n"
     ]
    },
    {
     "name": "stderr",
     "output_type": "stream",
     "text": [
      "2018-09-08 15:23:22,361 - application - INFO - vectorize document 0/1\n"
     ]
    },
    {
     "name": "stdout",
     "output_type": "stream",
     "text": [
      "Predicting 00007\n"
     ]
    },
    {
     "name": "stderr",
     "output_type": "stream",
     "text": [
      "2018-09-08 15:23:23,046 - application - INFO - vectorize document 0/1\n"
     ]
    },
    {
     "name": "stdout",
     "output_type": "stream",
     "text": [
      "Predicting 00024\n"
     ]
    },
    {
     "name": "stderr",
     "output_type": "stream",
     "text": [
      "2018-09-08 15:23:23,724 - application - INFO - vectorize document 0/1\n"
     ]
    },
    {
     "name": "stdout",
     "output_type": "stream",
     "text": [
      "Predicting 00055\n"
     ]
    },
    {
     "name": "stderr",
     "output_type": "stream",
     "text": [
      "2018-09-08 15:23:24,398 - application - INFO - vectorize document 0/1\n"
     ]
    },
    {
     "name": "stdout",
     "output_type": "stream",
     "text": [
      "Predicting 00104\n"
     ]
    },
    {
     "name": "stderr",
     "output_type": "stream",
     "text": [
      "2018-09-08 15:23:25,101 - application - INFO - vectorize document 0/1\n"
     ]
    },
    {
     "name": "stdout",
     "output_type": "stream",
     "text": [
      "Predicting 00180\n"
     ]
    },
    {
     "name": "stderr",
     "output_type": "stream",
     "text": [
      "2018-09-08 15:23:25,869 - application - INFO - vectorize document 0/1\n"
     ]
    },
    {
     "name": "stdout",
     "output_type": "stream",
     "text": [
      "Predicting 00055\n"
     ]
    },
    {
     "name": "stderr",
     "output_type": "stream",
     "text": [
      "2018-09-08 15:23:26,675 - application - INFO - vectorize document 0/1\n"
     ]
    },
    {
     "name": "stdout",
     "output_type": "stream",
     "text": [
      "Predicting 00021\n"
     ]
    },
    {
     "name": "stderr",
     "output_type": "stream",
     "text": [
      "2018-09-08 15:23:27,378 - application - INFO - vectorize document 0/1\n"
     ]
    },
    {
     "name": "stdout",
     "output_type": "stream",
     "text": [
      "Predicting 00022\n"
     ]
    },
    {
     "name": "stderr",
     "output_type": "stream",
     "text": [
      "2018-09-08 15:23:28,105 - application - INFO - vectorize document 0/1\n"
     ]
    },
    {
     "name": "stdout",
     "output_type": "stream",
     "text": [
      "Predicting 00046\n"
     ]
    }
   ],
   "source": [
    "results = []\n",
    "\n",
    "for query in evaluator_data.queries[0:20]:\n",
    "    print(\"Predicting {}\".format(query['result']))\n",
    "    doc = preprocessor.fit(query['query_text'])\n",
    "    vec = vectorize(model.reverseIndex, [doc])[0]\n",
    "    p_ids, p_scores = [], []\n",
    "\n",
    "    results.append((query, model.predict(vec)))"
   ]
  },
  {
   "cell_type": "markdown",
   "metadata": {},
   "source": [
    "# precision and recall"
   ]
  },
  {
   "cell_type": "code",
   "execution_count": 28,
   "metadata": {},
   "outputs": [
    {
     "name": "stdout",
     "output_type": "stream",
     "text": [
      "[603, 13939, 240, 9518]\n"
     ]
    }
   ],
   "source": [
    "tp, fp, fn, tn = 0, 0, 0, 0\n",
    "precisions = []\n",
    "recalls = []\n",
    "has = False\n",
    "\n",
    "for index in range(len(results)):\n",
    "    has = True\n",
    "    query, result = results[index]\n",
    "    for predict_id, score in result:\n",
    "        if score > 0: # ocorreu\n",
    "            if predict_id in query['items']: # ocorreu e deveria ter ocorrido\n",
    "                tp += 1\n",
    "            else:\n",
    "                fp += 1\n",
    "        else: # nao ocorreu\n",
    "            if predict_id in query['items']: # não ocorreu e deveria ter ocorrido\n",
    "                fn += 1\n",
    "            else:\n",
    "                tn += 1\n",
    "    \n",
    "    if index % int(len(results)/10):\n",
    "        precisions.append(tp / ( tp + fp ))\n",
    "        recalls.append(tp / ( tp + fn ))\n",
    "        has = False\n",
    "\n",
    "if has:\n",
    "    precisions.append(tp / ( tp + fp ))\n",
    "    recalls.append(tp / ( tp + fn ))\n",
    "\n",
    "print([tp, fp, fn, tn])"
   ]
  },
  {
   "cell_type": "code",
   "execution_count": 32,
   "metadata": {},
   "outputs": [],
   "source": [
    "import matplotlib.pyplot as plt"
   ]
  },
  {
   "cell_type": "code",
   "execution_count": 36,
   "metadata": {},
   "outputs": [
    {
     "name": "stdout",
     "output_type": "stream",
     "text": [
      "0.0414660981983221\n"
     ]
    },
    {
     "data": {
      "image/png": "[encoded data removed]",
      "text/plain": [
       "<Figure size 432x288 with 1 Axes>"
      ]
     },
     "metadata": {},
     "output_type": "display_data"
    }
   ],
   "source": [
    "precision = tp / ( tp + fp )\n",
    "print(precision)\n",
    "plt.plot(precisions)\n",
    "plt.show()"
   ]
  },
  {
   "cell_type": "code",
   "execution_count": 35,
   "metadata": {},
   "outputs": [
    {
     "name": "stdout",
     "output_type": "stream",
     "text": [
      "0.7153024911032029\n"
     ]
    },
    {
     "data": {
      "image/png": "[encoded data removed]",
      "text/plain": [
       "<Figure size 432x288 with 1 Axes>"
      ]
     },
     "metadata": {},
     "output_type": "display_data"
    }
   ],
   "source": [
    "recall = tp / ( tp + fn )\n",
    "print(recall)\n",
    "plt.plot(recalls)\n",
    "plt.show()"
   ]
  },
  {
   "cell_type": "code",
   "execution_count": 37,
   "metadata": {},
   "outputs": [
    {
     "name": "stdout",
     "output_type": "stream",
     "text": [
      "0.07838804029899252\n"
     ]
    }
   ],
   "source": [
    "f1_score = (2 * ( precision * recall )) / (precision + recall)\n",
    "print(f1_score)"
   ]
  },
  {
   "cell_type": "markdown",
   "metadata": {},
   "source": [
    "# precision K"
   ]
  },
  {
   "cell_type": "code",
   "execution_count": 24,
   "metadata": {},
   "outputs": [
    {
     "name": "stdout",
     "output_type": "stream",
     "text": [
      "[49, 0, 51, 0]\n"
     ]
    }
   ],
   "source": [
    "ktp, ktn, kfp, kfn = 0, 0, 0, 0\n",
    "k = 5\n",
    "\n",
    "for query, result in results:\n",
    "    for predict_id, score in result[:k]:\n",
    "        if score > 0: # ocorreu\n",
    "            if predict_id in query['items']: # ocorreu e deveria ter ocorrido\n",
    "                ktp += 1\n",
    "            else:\n",
    "                kfp += 1\n",
    "        else: # nao ocorreu\n",
    "            if predict_id in query['items']: # não ocorreu e deveria ter ocorrido\n",
    "                kfn += 1\n",
    "            else:\n",
    "                ktn += 1\n",
    "\n",
    "print([ktp, ktn, kfp, kfn])"
   ]
  },
  {
   "cell_type": "code",
   "execution_count": 25,
   "metadata": {},
   "outputs": [
    {
     "name": "stdout",
     "output_type": "stream",
     "text": [
      "0.49\n"
     ]
    }
   ],
   "source": [
    "kprecision = ktp / ( ktp + kfp )\n",
    "print(kprecision)"
   ]
  },
  {
   "cell_type": "code",
   "execution_count": 26,
   "metadata": {},
   "outputs": [
    {
     "name": "stdout",
     "output_type": "stream",
     "text": [
      "1.0\n"
     ]
    }
   ],
   "source": [
    "krecall = ktp / ( ktp + kfn )\n",
    "print(krecall)"
   ]
  },
  {
   "cell_type": "code",
   "execution_count": null,
   "metadata": {},
   "outputs": [],
   "source": [
    "\n",
    "for query, result in results:\n",
    "    predict_id, score = result\n",
    "    \n",
    "    if score > 0.0:\n",
    "        \n",
    "# plt.plot(recalls)\n",
    "# plt.show()"
   ]
  }
 ],
 "metadata": {
  "kernelspec": {
   "display_name": "Python 3",
   "language": "python",
   "name": "python3"
  },
  "language_info": {
   "codemirror_mode": {
    "name": "ipython",
    "version": 3
   },
   "file_extension": ".py",
   "mimetype": "text/x-python",
   "name": "python",
   "nbconvert_exporter": "python",
   "pygments_lexer": "ipython3",
   "version": "3.5.2"
  }
 },
 "nbformat": 4,
 "nbformat_minor": 2
}
