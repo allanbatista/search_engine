{
 "cells": [
  {
   "cell_type": "code",
   "execution_count": 1,
   "metadata": {},
   "outputs": [
    {
     "name": "stderr",
     "output_type": "stream",
     "text": [
      "2018-09-09 20:26:19,488 - application - INFO - Starting Application\n"
     ]
    }
   ],
   "source": [
    "#!/usr/bin/env python\n",
    "# -*- coding: utf-8 -*-\n",
    "\n",
    "# import pandas as pd\n",
    "# import matplotlib.pyplot as plt\n",
    "\n",
    "from Tools.Config import CONFIG, ROOT_DIR\n",
    "from Tools.Logger import logger\n",
    "from Lib.Similarity.Cosine import Cosine\n",
    "from Lib.Similarity.Jaccard import Jaccard\n",
    "from Lib.Similarity.Euclidian import Euclidian\n",
    "from Tools.EvaluatorData import EvaluatorData\n",
    "from Lib.NLP.Preprocessor import Preprocessor\n",
    "from Lib.NLP.VectorizeTFIDF import vectorize\n",
    "\n",
    "logger.info('Starting Application')"
   ]
  },
  {
   "cell_type": "code",
   "execution_count": 2,
   "metadata": {},
   "outputs": [],
   "source": [
    "evaluator_data = EvaluatorData()\n",
    "preprocessor = Preprocessor()"
   ]
  },
  {
   "cell_type": "code",
   "execution_count": 3,
   "metadata": {},
   "outputs": [
    {
     "name": "stderr",
     "output_type": "stream",
     "text": [
      "2018-09-09 20:26:19,661 - application - INFO - Loading Reverse Index\n",
      "2018-09-09 20:26:21,603 - application - INFO - Model Cosine Loaded\n",
      "2018-09-09 20:26:23,545 - application - INFO - Model Jaccard Loaded\n",
      "2018-09-09 20:26:25,533 - application - INFO - Model Jaccard Loaded\n"
     ]
    }
   ],
   "source": [
    "cosine = Cosine.load()\n",
    "jaccard = Jaccard.load()\n",
    "euclidian = Euclidian.load()\n",
    "reverse_index = cosine.reverseIndex"
   ]
  },
  {
   "cell_type": "code",
   "execution_count": 4,
   "metadata": {},
   "outputs": [
    {
     "name": "stdout",
     "output_type": "stream",
     "text": [
      "Predicting 00034\n",
      "Predicting 00007\n",
      "Predicting 00043\n",
      "Predicting 00009\n",
      "Predicting 00131\n",
      "Predicting 00024\n",
      "Predicting 00028\n",
      "Predicting 00022\n",
      "Predicting 00010\n",
      "Predicting 00025\n"
     ]
    }
   ],
   "source": [
    "cosine_results = []\n",
    "jaccard_results = []\n",
    "euclidian_results = []\n",
    "\n",
    "for query in evaluator_data.queries[0:10]:\n",
    "    print(\"Predicting {}\".format(query['result']))\n",
    "    doc = preprocessor.fit(query['query_text'])\n",
    "    vec = vectorize(reverse_index, [doc])[0]\n",
    "\n",
    "    cosine_results.append((query, cosine.predict(vec)))\n",
    "    jaccard_results.append((query, jaccard.predict(vec)))\n",
    "    euclidian_results.append((query, euclidian.predict(vec)))"
   ]
  },
  {
   "cell_type": "markdown",
   "metadata": {},
   "source": [
    "# precision and recall"
   ]
  },
  {
   "cell_type": "code",
   "execution_count": 5,
   "metadata": {},
   "outputs": [],
   "source": [
    "def c(results):\n",
    "    tp, fp, fn, tn = 0, 0, 0, 0\n",
    "\n",
    "    for index in range(len(results)):\n",
    "        has = True\n",
    "        query, result = results[index]\n",
    "        \n",
    "        for predict_id, score in result:\n",
    "            label = str(predict_id).zfill(5)\n",
    "            if score > 0: # ocorreu\n",
    "                if label in query['items']: # ocorreu e deveria ter ocorrido\n",
    "                    tp += 1\n",
    "                else:\n",
    "                    fp += 1\n",
    "            else: # nao ocorreu\n",
    "                if label in query['items']: # não ocorreu e deveria ter ocorrido\n",
    "                    fn += 1\n",
    "                else:\n",
    "                    tn += 1\n",
    "\n",
    "    return tp, fp, fn, tn"
   ]
  },
  {
   "cell_type": "code",
   "execution_count": 6,
   "metadata": {},
   "outputs": [
    {
     "name": "stdout",
     "output_type": "stream",
     "text": [
      "(231, 6693, 99, 5127)\n"
     ]
    }
   ],
   "source": [
    "print(c(cosine_results))"
   ]
  },
  {
   "cell_type": "code",
   "execution_count": 7,
   "metadata": {},
   "outputs": [
    {
     "name": "stdout",
     "output_type": "stream",
     "text": [
      "(231, 6693, 99, 5127)\n"
     ]
    }
   ],
   "source": [
    "print(c(jaccard_results))"
   ]
  },
  {
   "cell_type": "code",
   "execution_count": 8,
   "metadata": {},
   "outputs": [
    {
     "name": "stdout",
     "output_type": "stream",
     "text": [
      "(330, 11820, 0, 0)\n"
     ]
    }
   ],
   "source": [
    "print(c(euclidian_results))"
   ]
  },
  {
   "cell_type": "code",
   "execution_count": 9,
   "metadata": {},
   "outputs": [
    {
     "ename": "ModuleNotFoundError",
     "evalue": "No module named 'matplotlib'",
     "output_type": "error",
     "traceback": [
      "\u001b[0;31m---------------------------------------------------------------------------\u001b[0m",
      "\u001b[0;31mModuleNotFoundError\u001b[0m                       Traceback (most recent call last)",
      "\u001b[0;32m<ipython-input-9-a0d2faabd9e9>\u001b[0m in \u001b[0;36m<module>\u001b[0;34m()\u001b[0m\n\u001b[0;32m----> 1\u001b[0;31m \u001b[0;32mimport\u001b[0m \u001b[0mmatplotlib\u001b[0m\u001b[0;34m.\u001b[0m\u001b[0mpyplot\u001b[0m \u001b[0;32mas\u001b[0m \u001b[0mplt\u001b[0m\u001b[0;34m\u001b[0m\u001b[0m\n\u001b[0m",
      "\u001b[0;31mModuleNotFoundError\u001b[0m: No module named 'matplotlib'"
     ]
    }
   ],
   "source": [
    "import matplotlib.pyplot as plt"
   ]
  },
  {
   "cell_type": "code",
   "execution_count": null,
   "metadata": {},
   "outputs": [],
   "source": [
    "precision = tp / ( tp + fp )\n",
    "print(precision)\n",
    "plt.plot(precisions)\n",
    "plt.show()"
   ]
  },
  {
   "cell_type": "code",
   "execution_count": null,
   "metadata": {},
   "outputs": [],
   "source": [
    "recall = tp / ( tp + fn )\n",
    "print(recall)\n",
    "plt.plot(recalls)\n",
    "plt.show()"
   ]
  },
  {
   "cell_type": "code",
   "execution_count": null,
   "metadata": {},
   "outputs": [],
   "source": [
    "f1_score = (2 * ( precision * recall )) / (precision + recall)\n",
    "print(f1_score)"
   ]
  },
  {
   "cell_type": "markdown",
   "metadata": {},
   "source": [
    "# precision K"
   ]
  },
  {
   "cell_type": "code",
   "execution_count": null,
   "metadata": {},
   "outputs": [],
   "source": [
    "ktp, ktn, kfp, kfn = 0, 0, 0, 0\n",
    "k = 5\n",
    "\n",
    "for query, result in results:\n",
    "    for predict_id, score in result[:k]:\n",
    "        if score > 0: # ocorreu\n",
    "            if predict_id in query['items']: # ocorreu e deveria ter ocorrido\n",
    "                ktp += 1\n",
    "            else:\n",
    "                kfp += 1\n",
    "        else: # nao ocorreu\n",
    "            if predict_id in query['items']: # não ocorreu e deveria ter ocorrido\n",
    "                kfn += 1\n",
    "            else:\n",
    "                ktn += 1\n",
    "\n",
    "print([ktp, ktn, kfp, kfn])"
   ]
  },
  {
   "cell_type": "code",
   "execution_count": null,
   "metadata": {},
   "outputs": [],
   "source": [
    "kprecision = ktp / ( ktp + kfp )\n",
    "print(kprecision)"
   ]
  },
  {
   "cell_type": "code",
   "execution_count": null,
   "metadata": {},
   "outputs": [],
   "source": [
    "krecall = ktp / ( ktp + kfn )\n",
    "print(krecall)"
   ]
  },
  {
   "cell_type": "code",
   "execution_count": null,
   "metadata": {},
   "outputs": [],
   "source": [
    "\n",
    "for query, result in results:\n",
    "    predict_id, score = result\n",
    "    \n",
    "    if score > 0.0:\n",
    "        \n",
    "# plt.plot(recalls)\n",
    "# plt.show()"
   ]
  }
 ],
 "metadata": {
  "kernelspec": {
   "display_name": "Python 3",
   "language": "python",
   "name": "python3"
  },
  "language_info": {
   "codemirror_mode": {
    "name": "ipython",
    "version": 3
   },
   "file_extension": ".py",
   "mimetype": "text/x-python",
   "name": "python",
   "nbconvert_exporter": "python",
   "pygments_lexer": "ipython3",
   "version": "3.6.5"
  }
 },
 "nbformat": 4,
 "nbformat_minor": 2
}
