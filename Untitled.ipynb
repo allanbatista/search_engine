{
 "cells": [
  {
   "cell_type": "code",
   "execution_count": 1,
   "metadata": {},
   "outputs": [],
   "source": [
    "from Tools.Config import CONFIG\n",
    "from Tools.Logger import logger\n",
    "from Tools.Document import Document\n",
    "from Tools.Preprocessing import Preprocessing\n",
    "from Tools.ReverseIndex import ReverseIndex\n",
    "from Tools.VectorizeTFIDF import vectorize\n",
    "from Tools.Model import Model"
   ]
  },
  {
   "cell_type": "code",
   "execution_count": 2,
   "metadata": {},
   "outputs": [],
   "source": [
    "documents = Document.parse_many(CONFIG['documents'])\n",
    "documents['pre'] = Preprocessing(**CONFIG['preprocessing']).preprocessing_many(documents['text'])"
   ]
  },
  {
   "cell_type": "code",
   "execution_count": 3,
   "metadata": {},
   "outputs": [],
   "source": [
    "reverseIndex = ReverseIndex()\n",
    "reverseIndex.create(documents)\n",
    "reverseIndex.persist(CONFIG['reverse_index']['filename'])"
   ]
  },
  {
   "cell_type": "code",
   "execution_count": 4,
   "metadata": {},
   "outputs": [],
   "source": [
    "documents['vectorize'] = vectorize(reverseIndex, documents['pre'])"
   ]
  },
  {
   "cell_type": "code",
   "execution_count": 5,
   "metadata": {},
   "outputs": [],
   "source": [
    "documents[['id', 'vectorize']].to_csv(CONFIG['path_to_vectors'])"
   ]
  },
  {
   "cell_type": "code",
   "execution_count": 165,
   "metadata": {},
   "outputs": [],
   "source": [
    "import math\n",
    "import numpy as np\n",
    "import pandas as pd\n",
    "\n",
    "class Model:\n",
    "    def __init__(self, reverseIndex):\n",
    "        self.reverseIndex = reverseIndex\n",
    "        self.cos_lengths = None\n",
    "        self.y = None\n",
    "\n",
    "    def fit(self, X, y):\n",
    "        self.calc_cos_lengths(X)\n",
    "        self.y = y\n",
    "\n",
    "    def calc_cos_lengths(self, X):\n",
    "        cos_lengths = []\n",
    "        \n",
    "        for index in range(len(X)):\n",
    "            zeros = np.zeros(len(X[index]))\n",
    "            zeros[index] = self.calc_cos_length(X[index])\n",
    "            cos_lengths.append(zeros)\n",
    "        \n",
    "        self.cos_lengths = np.array(cos_lengths)\n",
    "    \n",
    "    def calc_cos_length(self, doc):\n",
    "        summed = sum([ weight*weight for weight in doc ])\n",
    "        length = math.sqrt(summed)\n",
    "        return length\n",
    "    \n",
    "    def predict(self, doc):\n",
    "        doc_length = self.calc_cos_length(doc)\n",
    "        \n",
    "        div = [sum(cos_length)*doc_length for cos_length in self.cos_lengths]\n",
    "        \n",
    "        mult = self.cos_lengths * doc\n",
    "        \n",
    "        summeds = np.array([ sum(line) for line in mult ])\n",
    "        \n",
    "        results = [[ self.y[index], summeds[index] / div[index]] for index in range(len(summeds))]\n",
    "        results.sort(reverse=True, key=lambda x: x[1])\n",
    "\n",
    "        return results\n",
    "\n",
    "model = Model(reverseIndex)\n",
    "model.fit(documents['vectorize'], documents['id'])"
   ]
  },
  {
   "cell_type": "code",
   "execution_count": 166,
   "metadata": {},
   "outputs": [
    {
     "data": {
      "text/html": [
       "<div>\n",
       "<style scoped>\n",
       "    .dataframe tbody tr th:only-of-type {\n",
       "        vertical-align: middle;\n",
       "    }\n",
       "\n",
       "    .dataframe tbody tr th {\n",
       "        vertical-align: top;\n",
       "    }\n",
       "\n",
       "    .dataframe thead th {\n",
       "        text-align: right;\n",
       "    }\n",
       "</style>\n",
       "<table border=\"1\" class=\"dataframe\">\n",
       "  <thead>\n",
       "    <tr style=\"text-align: right;\">\n",
       "      <th></th>\n",
       "      <th>0</th>\n",
       "      <th>1</th>\n",
       "    </tr>\n",
       "  </thead>\n",
       "  <tbody>\n",
       "    <tr>\n",
       "      <th>0</th>\n",
       "      <td>00129</td>\n",
       "      <td>0.197386</td>\n",
       "    </tr>\n",
       "    <tr>\n",
       "      <th>1</th>\n",
       "      <td>00077</td>\n",
       "      <td>0.155281</td>\n",
       "    </tr>\n",
       "    <tr>\n",
       "      <th>2</th>\n",
       "      <td>01149</td>\n",
       "      <td>0.137228</td>\n",
       "    </tr>\n",
       "    <tr>\n",
       "      <th>3</th>\n",
       "      <td>00034</td>\n",
       "      <td>0.104434</td>\n",
       "    </tr>\n",
       "    <tr>\n",
       "      <th>4</th>\n",
       "      <td>00926</td>\n",
       "      <td>0.103168</td>\n",
       "    </tr>\n",
       "  </tbody>\n",
       "</table>\n",
       "</div>"
      ],
      "text/plain": [
       "       0         1\n",
       "0  00129  0.197386\n",
       "1  00077  0.155281\n",
       "2  01149  0.137228\n",
       "3  00034  0.104434\n",
       "4  00926  0.103168"
      ]
     },
     "execution_count": 166,
     "metadata": {},
     "output_type": "execute_result"
    }
   ],
   "source": [
    "pd.DataFrame(model.predict(np.array(documents['vectorize'][0]))).head()"
   ]
  },
  {
   "cell_type": "code",
   "execution_count": 167,
   "metadata": {},
   "outputs": [
    {
     "data": {
      "text/html": [
       "<div>\n",
       "<style scoped>\n",
       "    .dataframe tbody tr th:only-of-type {\n",
       "        vertical-align: middle;\n",
       "    }\n",
       "\n",
       "    .dataframe tbody tr th {\n",
       "        vertical-align: top;\n",
       "    }\n",
       "\n",
       "    .dataframe thead th {\n",
       "        text-align: right;\n",
       "    }\n",
       "</style>\n",
       "<table border=\"1\" class=\"dataframe\">\n",
       "  <thead>\n",
       "    <tr style=\"text-align: right;\">\n",
       "      <th></th>\n",
       "      <th>0</th>\n",
       "      <th>1</th>\n",
       "    </tr>\n",
       "  </thead>\n",
       "  <tbody>\n",
       "    <tr>\n",
       "      <th>0</th>\n",
       "      <td>00260</td>\n",
       "      <td>0.437958</td>\n",
       "    </tr>\n",
       "    <tr>\n",
       "      <th>1</th>\n",
       "      <td>01068</td>\n",
       "      <td>0.216507</td>\n",
       "    </tr>\n",
       "    <tr>\n",
       "      <th>2</th>\n",
       "      <td>00636</td>\n",
       "      <td>0.148705</td>\n",
       "    </tr>\n",
       "    <tr>\n",
       "      <th>3</th>\n",
       "      <td>00573</td>\n",
       "      <td>0.126396</td>\n",
       "    </tr>\n",
       "    <tr>\n",
       "      <th>4</th>\n",
       "      <td>00961</td>\n",
       "      <td>0.123665</td>\n",
       "    </tr>\n",
       "  </tbody>\n",
       "</table>\n",
       "</div>"
      ],
      "text/plain": [
       "       0         1\n",
       "0  00260  0.437958\n",
       "1  01068  0.216507\n",
       "2  00636  0.148705\n",
       "3  00573  0.126396\n",
       "4  00961  0.123665"
      ]
     },
     "execution_count": 167,
     "metadata": {},
     "output_type": "execute_result"
    }
   ],
   "source": [
    "pd.DataFrame(model.predict(np.array(documents['vectorize'][1]))).head()"
   ]
  }
 ],
 "metadata": {
  "kernelspec": {
   "display_name": "Python 3",
   "language": "python",
   "name": "python3"
  },
  "language_info": {
   "codemirror_mode": {
    "name": "ipython",
    "version": 3
   },
   "file_extension": ".py",
   "mimetype": "text/x-python",
   "name": "python",
   "nbconvert_exporter": "python",
   "pygments_lexer": "ipython3",
   "version": "3.5.2"
  }
 },
 "nbformat": 4,
 "nbformat_minor": 2
}
