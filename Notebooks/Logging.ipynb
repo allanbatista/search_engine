{
 "cells": [
  {
   "cell_type": "code",
   "execution_count": 20,
   "metadata": {},
   "outputs": [
    {
     "data": {
      "text/plain": [
       "10"
      ]
     },
     "execution_count": 20,
     "metadata": {},
     "output_type": "execute_result"
    }
   ],
   "source": [
    "import logging\n",
    "c={'loglevel': 'DEBUG'}\n",
    "getattr(logging, c['loglevel'])\n",
    "# # create logger with 'spam_application'\n",
    "# logger = logging.getLogger('application')\n",
    "# logger.setLevel(logging.DEBUG)\n",
    "# # create file handler which logs even debug messages\n",
    "# fh = logging.FileHandler('spam.log')\n",
    "# fh.setLevel(logging.DEBUG)\n",
    "# # create console handler with a higher log level\n",
    "# ch = logging.StreamHandler()\n",
    "# ch.setLevel(logging.ERROR)\n",
    "# # create formatter and add it to the handlers\n",
    "# formatter = logging.Formatter('%(asctime)s - %(name)s - %(levelname)s - %(message)s')\n",
    "# fh.setFormatter(formatter)\n",
    "# ch.setFormatter(formatter)\n",
    "# # add the handlers to the logger\n",
    "# logger.addHandler(fh)\n",
    "# logger.addHandler(ch)\n",
    "\n",
    "# logger.info('creating an instance of auxiliary_module.Auxiliary')\n",
    "# a = auxiliary_module.Auxiliary()\n",
    "# logger.info('created an instance of auxiliary_module.Auxiliary')\n",
    "# logger.info('calling auxiliary_module.Auxiliary.do_something')\n",
    "# a.do_something()\n",
    "# logger.info('finished auxiliary_module.Auxiliary.do_something')\n",
    "# logger.info('calling auxiliary_module.some_function()')\n",
    "# auxiliary_module.some_function()\n",
    "# logger.info('done with auxiliary_module.some_function()')"
   ]
  }
 ],
 "metadata": {
  "kernelspec": {
   "display_name": "Python 3",
   "language": "python",
   "name": "python3"
  },
  "language_info": {
   "codemirror_mode": {
    "name": "ipython",
    "version": 3
   },
   "file_extension": ".py",
   "mimetype": "text/x-python",
   "name": "python",
   "nbconvert_exporter": "python",
   "pygments_lexer": "ipython3",
   "version": "3.6.5"
  }
 },
 "nbformat": 4,
 "nbformat_minor": 2
}
